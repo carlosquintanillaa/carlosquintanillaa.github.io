{
 "cells": [
  {
   "cell_type": "code",
   "execution_count": null,
   "metadata": {},
   "outputs": [],
   "source": [
    "# Load relevant libraries\n",
    "import pandas as pd\n",
    "from econml.dml import CausalForestDML\n",
    "\n",
    "# Read dataset\n",
    "datos = pd.read_csv('/Users/carlosq/Desktop/automl/masterminds/het1.csv')\n",
    "y = datos['y']\n",
    "T = datos['t']\n",
    "X = datos.drop(['y','t'],axis=1)\n",
    "\n",
    "# Set up the model and estimate\n",
    "est = CausalForestDML(discrete_treatment=True)\n",
    "est.fit(y, T, X=X, W=None)\n",
    "\n",
    "# Average Treatment Effect\n",
    "est.ate_\n",
    "\n",
    "# Variable importance (to explain heterogeneity)\n",
    "est.feature_importances_\n",
    "\n",
    "# What is Theta for each individual in a test set\n",
    "Xtest = pd.read_csv('/Users/carlosq/Desktop/automl/masterminds/het2.csv')\n",
    "theta_test=est.effect(Xtest)"
   ]
  }
 ],
 "metadata": {
  "kernelspec": {
   "display_name": "Python 3 (ipykernel)",
   "language": "python",
   "name": "python3"
  },
  "language_info": {
   "codemirror_mode": {
    "name": "ipython",
    "version": 3
   },
   "file_extension": ".py",
   "mimetype": "text/x-python",
   "name": "python",
   "nbconvert_exporter": "python",
   "pygments_lexer": "ipython3",
   "version": "3.9.17"
  }
 },
 "nbformat": 4,
 "nbformat_minor": 4
}
